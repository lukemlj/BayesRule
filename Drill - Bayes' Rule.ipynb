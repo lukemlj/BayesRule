{
 "cells": [
  {
   "cell_type": "markdown",
   "metadata": {},
   "source": [
    "A diagnostic test has a 98% probability of giving a positive result when applied to a person suffering from Thripshaw's Disease, and 10% probability of giving a (false) positive when applied to a non-sufferer. It is estimated that 0.5 % of the population are sufferers. Suppose that the test is now administered to a person whose disease status is unknown. Calculate the probability that the test will:\n",
    "\n",
    "1. Be positive\n",
    "2. Correctly diagnose a sufferer of Thripshaw's\n",
    "3. Correctly identify a non-sufferer of Thripshaw's\n",
    "4. Misclassify the person"
   ]
  },
  {
   "cell_type": "markdown",
   "metadata": {},
   "source": [
    "Problem 1. Be positive\n",
    "Since only 0.5% of the population are sufferers, the probability of getting a positive test result should come mostly from false positives of non-sufferers: i.e. about 10%.\n",
    "To calculate, we need to find the probability of getting a positive test result if you have the disease (98% * 0.5%) and add that to the probability of gettings a positive test result if you don't have the disease (10% * 99.5%):"
   ]
  },
  {
   "cell_type": "code",
   "execution_count": 3,
   "metadata": {
    "collapsed": false
   },
   "outputs": [
    {
     "data": {
      "text/plain": [
       "0.1044"
      ]
     },
     "execution_count": 3,
     "metadata": {},
     "output_type": "execute_result"
    }
   ],
   "source": [
    "0.98 * 0.005 + 0.10 * 0.995"
   ]
  },
  {
   "cell_type": "markdown",
   "metadata": {},
   "source": [
    "Problem 2. Correctly diagnose a sufferer of Thripshaw's\n",
    "If I'm understanding the question, this is just the probability of giving a positive result for a person suffering from the disease:\n",
    "0.98"
   ]
  },
  {
   "cell_type": "markdown",
   "metadata": {},
   "source": [
    "Problem 3. Correctly identify a non-sufferer of Thripshaw's\n",
    "If I'm understanding the question, this is just the probability of giving a negative result for someone who doesn't have the disease:\n",
    "1 - 0.1 = 0.9"
   ]
  },
  {
   "cell_type": "markdown",
   "metadata": {},
   "source": [
    "Problem 4. Misclassify the person\n",
    "There's only a 2% chance of misidentifying sufferers, so the bulk of the misclassifications come from the false positives of the non-sufferers which is 10%. \n",
    "To calculate, we need to sum the probabilities of misclassifying the sufferers (0.5% * 2%) and non-sufferers (99.5% * 10%):"
   ]
  },
  {
   "cell_type": "code",
   "execution_count": 4,
   "metadata": {
    "collapsed": false
   },
   "outputs": [
    {
     "data": {
      "text/plain": [
       "0.09960000000000001"
      ]
     },
     "execution_count": 4,
     "metadata": {},
     "output_type": "execute_result"
    }
   ],
   "source": [
    "0.005 * 0.02 + 0.995 * 0.1"
   ]
  }
 ],
 "metadata": {
  "kernelspec": {
   "display_name": "Python 3",
   "language": "python",
   "name": "python3"
  },
  "language_info": {
   "codemirror_mode": {
    "name": "ipython",
    "version": 3
   },
   "file_extension": ".py",
   "mimetype": "text/x-python",
   "name": "python",
   "nbconvert_exporter": "python",
   "pygments_lexer": "ipython3",
   "version": "3.6.0"
  }
 },
 "nbformat": 4,
 "nbformat_minor": 2
}
